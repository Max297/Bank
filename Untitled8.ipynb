{
  "nbformat": 4,
  "nbformat_minor": 0,
  "metadata": {
    "colab": {
      "name": "Untitled8.ipynb",
      "provenance": [],
      "authorship_tag": "ABX9TyMkZf/qzPmdESFwhk+UdUw/",
      "include_colab_link": true
    },
    "kernelspec": {
      "name": "python3",
      "display_name": "Python 3"
    }
  },
  "cells": [
    {
      "cell_type": "markdown",
      "metadata": {
        "id": "view-in-github",
        "colab_type": "text"
      },
      "source": [
        "<a href=\"https://colab.research.google.com/github/Max297/Bank/blob/main/Untitled8.ipynb\" target=\"_parent\"><img src=\"https://colab.research.google.com/assets/colab-badge.svg\" alt=\"Open In Colab\"/></a>"
      ]
    },
    {
      "cell_type": "code",
      "metadata": {
        "id": "MXIwXW28kRAh"
      },
      "source": [
        "import numpy as np # linear algebra\n",
        "import pandas as pd # data processing, CSV file I/O (e.g. pd.read_csv)\n",
        "import matplotlib.pyplot as plt\n",
        "np.random.seed(32)\n",
        "\n",
        "\n",
        "from sklearn.model_selection import train_test_split\n",
        "from sklearn.metrics import roc_auc_score\n",
        "from sklearn.manifold import TSNE\n",
        "\n",
        "from keras.preprocessing.text import Tokenizer\n",
        "from keras.preprocessing.sequence import pad_sequences\n",
        "from keras.layers import LSTM, Conv1D, MaxPooling1D, Dropout\n",
        "from keras.utils.np_utils import to_categorical\n",
        "from google.colab import drive\n",
        "from keras.layers import Dense, Input, Flatten\n",
        "from keras.layers import GlobalAveragePooling1D, Embedding\n",
        "from keras.models import Model\n",
        "from keras.models import Sequential\n",
        "from keras import layers\n",
        "from keras.layers import SpatialDropout1D\n",
        "from keras.models import load_model\n",
        "import keras\n",
        "\n",
        "\n",
        "\n",
        "from keras.models import Sequential\n",
        "from keras import layers"
      ],
      "execution_count": 298,
      "outputs": []
    },
    {
      "cell_type": "code",
      "metadata": {
        "colab": {
          "base_uri": "https://localhost:8080/"
        },
        "id": "kCSe6UaMkSOd",
        "outputId": "7af94243-5abb-4446-973e-33142701a14a"
      },
      "source": [
        "drive.mount('/content/drive')"
      ],
      "execution_count": 299,
      "outputs": [
        {
          "output_type": "stream",
          "text": [
            "Drive already mounted at /content/drive; to attempt to forcibly remount, call drive.mount(\"/content/drive\", force_remount=True).\n"
          ],
          "name": "stdout"
        }
      ]
    },
    {
      "cell_type": "code",
      "metadata": {
        "id": "t43bPVbOReC2"
      },
      "source": [
        "g='Добрый день'\n",
        "g=pd.Series([g])\n"
      ],
      "execution_count": 301,
      "outputs": []
    },
    {
      "cell_type": "code",
      "metadata": {
        "id": "pge4yWpDkfP8"
      },
      "source": [
        "base=['From ','Theme','Text','Type','Activity','Akcia','Sber_news','Alerts_from_Sber','Question','Request','Servers']\n",
        "post = pd.DataFrame( columns = base)"
      ],
      "execution_count": 347,
      "outputs": []
    },
    {
      "cell_type": "code",
      "metadata": {
        "id": "R-kk7jQaeyvp"
      },
      "source": [
        ""
      ],
      "execution_count": 347,
      "outputs": []
    },
    {
      "cell_type": "code",
      "metadata": {
        "id": "_5GzaNFl1wUO",
        "colab": {
          "base_uri": "https://localhost:8080/",
          "height": 80
        },
        "outputId": "f584d428-d17d-4698-d477-3feda3599a88"
      },
      "source": [
        "post.append(g,ignore_index=True)"
      ],
      "execution_count": 348,
      "outputs": [
        {
          "output_type": "execute_result",
          "data": {
            "text/html": [
              "<div>\n",
              "<style scoped>\n",
              "    .dataframe tbody tr th:only-of-type {\n",
              "        vertical-align: middle;\n",
              "    }\n",
              "\n",
              "    .dataframe tbody tr th {\n",
              "        vertical-align: top;\n",
              "    }\n",
              "\n",
              "    .dataframe thead th {\n",
              "        text-align: right;\n",
              "    }\n",
              "</style>\n",
              "<table border=\"1\" class=\"dataframe\">\n",
              "  <thead>\n",
              "    <tr style=\"text-align: right;\">\n",
              "      <th></th>\n",
              "      <th>From</th>\n",
              "      <th>Theme</th>\n",
              "      <th>Text</th>\n",
              "      <th>Type</th>\n",
              "      <th>Activity</th>\n",
              "      <th>Akcia</th>\n",
              "      <th>Sber_news</th>\n",
              "      <th>Alerts_from_Sber</th>\n",
              "      <th>Question</th>\n",
              "      <th>Request</th>\n",
              "      <th>Servers</th>\n",
              "      <th>0</th>\n",
              "    </tr>\n",
              "  </thead>\n",
              "  <tbody>\n",
              "    <tr>\n",
              "      <th>0</th>\n",
              "      <td>NaN</td>\n",
              "      <td>NaN</td>\n",
              "      <td>NaN</td>\n",
              "      <td>NaN</td>\n",
              "      <td>NaN</td>\n",
              "      <td>NaN</td>\n",
              "      <td>NaN</td>\n",
              "      <td>NaN</td>\n",
              "      <td>NaN</td>\n",
              "      <td>NaN</td>\n",
              "      <td>NaN</td>\n",
              "      <td>Добрый день</td>\n",
              "    </tr>\n",
              "  </tbody>\n",
              "</table>\n",
              "</div>"
            ],
            "text/plain": [
              "  From  Theme Text Type  ... Question Request Servers            0\n",
              "0   NaN   NaN  NaN  NaN  ...      NaN     NaN     NaN  Добрый день\n",
              "\n",
              "[1 rows x 12 columns]"
            ]
          },
          "metadata": {
            "tags": []
          },
          "execution_count": 348
        }
      ]
    },
    {
      "cell_type": "code",
      "metadata": {
        "id": "0-Cu9UcOxNpX"
      },
      "source": [
        "main_model = keras.models.load_model('/content/drive/My Drive/model_main/')\n",
        "activ_model = keras.models.load_model('/content/drive/My Drive/model_activ2/')\n",
        "money_model = keras.models.load_model('/content/drive/My Drive/model_money2/')\n",
        "news_model = keras.models.load_model('/content/drive/My Drive/model_news2/')\n",
        "notif_model = keras.models.load_model('/content/drive/My Drive/model_notif2/')\n",
        "questions_model = keras.models.load_model('/content/drive/My Drive/model_questions2/')\n",
        "req_model = keras.models.load_model('/content/drive/My Drive/model_req2/')\n",
        "server_model = keras.models.load_model('/content/drive/My Drive/model_server/')\n"
      ],
      "execution_count": 349,
      "outputs": []
    },
    {
      "cell_type": "code",
      "metadata": {
        "id": "3lULT80Vs5cI"
      },
      "source": [
        "def dew_it (letter):\n",
        "  \n",
        "\n",
        "\n",
        "\n",
        "  MAX_NB_WORDS = 20000\n",
        "  EMBEDDING_DIM = 100\n",
        "  MAX_SEQUENCE_LENGTH = 200\n",
        "  N_CLASSES = 6\n",
        "\n",
        "\n",
        "  res=[]\n",
        "\n",
        "  letter = letter.astype(str)\n",
        "  tokenizer = Tokenizer(num_words=MAX_NB_WORDS, char_level=False)\n",
        "  tokenizer.fit_on_texts(letter)\n",
        "  sequences = tokenizer.texts_to_sequences(letter)\n",
        "  letter= pad_sequences(sequences, maxlen=MAX_SEQUENCE_LENGTH)\n",
        "\n",
        "\n",
        "  main=main_model.predict(letter)\n",
        "  activ=activ_model.predict(letter)\n",
        "  money=money_model.predict(letter)\n",
        "  news=news_model.predict(letter)\n",
        "  notif=notif_model.predict(letter)\n",
        "  question=questions_model.predict(letter)\n",
        "  req=req_model.predict(letter)\n",
        "  server=server_model.predict(letter)\n",
        "\n",
        "  if ( ( main[0][0]>main[0][1]) and ( main[0][0]>main[0][2]) and ( main[0][0]>main[0][3]) and ( main[0][0]>main[0][4]) ) :\n",
        "    res.append(0)\n",
        "  if ( ( main[0][1]>main[0][0]) and ( main[0][1]>main[0][2]) and ( main[0][1]>main[0][3]) and ( main[0][0]>main[0][4]) ) :\n",
        "    res.append(1)\n",
        "  if ( ( main[0][2]>main[0][0]) and ( main[0][2]>main[0][1]) and ( main[0][2]>main[0][3]) and ( main[0][2]>main[0][4]) ) :\n",
        "    res.append(2)\n",
        "  if ( ( main[0][3]>main[0][0]) and ( main[0][3]>main[0][1]) and ( main[0][3]>main[0][2]) and ( main[0][3]>main[0][4]) ) :\n",
        "    res.append(3)\n",
        "  if ( ( main[0][4]>main[0][0]) and ( main[0][4]>main[0][1]) and ( main[0][4]>main[0][3]) and ( main[0][4]>main[0][2]) ) :\n",
        "    res.append(4)\n",
        "  \n",
        "  if activ[0][0]<0.5:\n",
        "     res.append (0)\n",
        "  else :\n",
        "     res.append (1)\n",
        "    \n",
        "  if money[0][0]<0.5:\n",
        "     res.append (0)\n",
        "  else :\n",
        "    res.append (1)\n",
        "\n",
        "  if news[0][0]<0.5:\n",
        "     res.append (0)\n",
        "  else :\n",
        "    res.append (1)\n",
        "\n",
        "  if notif[0][0]<0.5:\n",
        "     res.append (0)\n",
        "  else :\n",
        "    res.append (1)\n",
        "\n",
        "  if req[0][0]<0.5:\n",
        "     res.append (0)\n",
        "  else :\n",
        "    res.append (1)\n",
        "\n",
        "  if req[0][0]<0.5:\n",
        "     res.append (0)\n",
        "  else :\n",
        "    res.append (1)\n",
        "\n",
        "  if server[0][0]<0.5:\n",
        "     res.append (0)\n",
        "  else :\n",
        "    res.append (1)\n",
        "\n",
        "\n",
        "\n",
        "  return res\n",
        "\n",
        "\n",
        "  \n",
        "\n"
      ],
      "execution_count": 335,
      "outputs": []
    },
    {
      "cell_type": "code",
      "metadata": {
        "id": "IllWQ17kMtrJ"
      },
      "source": [
        "m=[]"
      ],
      "execution_count": 326,
      "outputs": []
    },
    {
      "cell_type": "code",
      "metadata": {
        "id": "p58svr5iv57z"
      },
      "source": [
        "m=dew_it(g)"
      ],
      "execution_count": 336,
      "outputs": []
    },
    {
      "cell_type": "code",
      "metadata": {
        "colab": {
          "base_uri": "https://localhost:8080/"
        },
        "id": "VDZ9jLxtbxsE",
        "outputId": "e4d7b5d8-afb5-4974-a415-25458925aa68"
      },
      "source": [
        "m"
      ],
      "execution_count": 337,
      "outputs": [
        {
          "output_type": "execute_result",
          "data": {
            "text/plain": [
              "[0, 1, 0, 0, 1, 1, 1, 1]"
            ]
          },
          "metadata": {
            "tags": []
          },
          "execution_count": 337
        }
      ]
    },
    {
      "cell_type": "code",
      "metadata": {
        "colab": {
          "base_uri": "https://localhost:8080/",
          "height": 163
        },
        "id": "KSInXctcfe7w",
        "outputId": "e855b86b-13b2-4757-a572-0c739f965528"
      },
      "source": [
        "post.append()"
      ],
      "execution_count": 346,
      "outputs": [
        {
          "output_type": "error",
          "ename": "TypeError",
          "evalue": "ignored",
          "traceback": [
            "\u001b[0;31m---------------------------------------------------------------------------\u001b[0m",
            "\u001b[0;31mTypeError\u001b[0m                                 Traceback (most recent call last)",
            "\u001b[0;32m<ipython-input-346-cad1fad223ea>\u001b[0m in \u001b[0;36m<module>\u001b[0;34m()\u001b[0m\n\u001b[0;32m----> 1\u001b[0;31m \u001b[0mpost\u001b[0m\u001b[0;34m.\u001b[0m\u001b[0mappend\u001b[0m\u001b[0;34m(\u001b[0m\u001b[0;34m)\u001b[0m\u001b[0;34m\u001b[0m\u001b[0;34m\u001b[0m\u001b[0m\n\u001b[0m",
            "\u001b[0;31mTypeError\u001b[0m: append() missing 1 required positional argument: 'other'"
          ]
        }
      ]
    }
  ]
}