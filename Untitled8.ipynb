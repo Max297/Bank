{
  "nbformat": 4,
  "nbformat_minor": 0,
  "metadata": {
    "colab": {
      "name": "Untitled8.ipynb",
      "provenance": [],
      "authorship_tag": "ABX9TyM2+gud07peIxK3/W1weOyE",
      "include_colab_link": true
    },
    "kernelspec": {
      "name": "python3",
      "display_name": "Python 3"
    }
  },
  "cells": [
    {
      "cell_type": "markdown",
      "metadata": {
        "id": "view-in-github",
        "colab_type": "text"
      },
      "source": [
        "<a href=\"https://colab.research.google.com/github/Max297/Bank/blob/main/Untitled8.ipynb\" target=\"_parent\"><img src=\"https://colab.research.google.com/assets/colab-badge.svg\" alt=\"Open In Colab\"/></a>"
      ]
    },
    {
      "cell_type": "code",
      "metadata": {
        "id": "MXIwXW28kRAh"
      },
      "source": [
        "import numpy as np # linear algebra\n",
        "import pandas as pd # data processing, CSV file I/O (e.g. pd.read_csv)\n",
        "import matplotlib.pyplot as plt\n",
        "np.random.seed(32)\n",
        "\n",
        "\n",
        "from sklearn.model_selection import train_test_split\n",
        "from sklearn.metrics import roc_auc_score\n",
        "from sklearn.manifold import TSNE\n",
        "\n",
        "from keras.preprocessing.text import Tokenizer\n",
        "from keras.preprocessing.sequence import pad_sequences\n",
        "from keras.layers import LSTM, Conv1D, MaxPooling1D, Dropout\n",
        "from keras.utils.np_utils import to_categorical\n",
        "from google.colab import drive\n",
        "from keras.layers import Dense, Input, Flatten\n",
        "from keras.layers import GlobalAveragePooling1D, Embedding\n",
        "from keras.models import Model\n",
        "from keras.models import Sequential\n",
        "from keras import layers\n",
        "from keras.layers import SpatialDropout1D\n",
        "from keras.models import load_model\n",
        "import keras\n",
        "\n",
        "\n",
        "\n",
        "from keras.models import Sequential\n",
        "from keras import layers"
      ],
      "execution_count": 43,
      "outputs": []
    },
    {
      "cell_type": "code",
      "metadata": {
        "colab": {
          "base_uri": "https://localhost:8080/"
        },
        "id": "kCSe6UaMkSOd",
        "outputId": "d5407687-20a8-4320-a349-6f8f9ec2253a"
      },
      "source": [
        "drive.mount('/content/drive')"
      ],
      "execution_count": 2,
      "outputs": [
        {
          "output_type": "stream",
          "text": [
            "Mounted at /content/drive\n"
          ],
          "name": "stdout"
        }
      ]
    },
    {
      "cell_type": "code",
      "metadata": {
        "id": "pge4yWpDkfP8"
      },
      "source": [
        "base=['From ','Theme','Text','Type','Activity','Servers','Akcia','Alerts_from_Sber','Request','Question','Sber_news']\n",
        "post = pd.DataFrame( columns = base)"
      ],
      "execution_count": 157,
      "outputs": []
    },
    {
      "cell_type": "code",
      "metadata": {
        "id": "lcPD4sjc1F-o"
      },
      "source": [
        ""
      ],
      "execution_count": 167,
      "outputs": []
    },
    {
      "cell_type": "code",
      "metadata": {
        "colab": {
          "base_uri": "https://localhost:8080/",
          "height": 49
        },
        "id": "_5GzaNFl1wUO",
        "outputId": "44addccd-b218-4f17-e869-e54244243914"
      },
      "source": [
        "post"
      ],
      "execution_count": 160,
      "outputs": [
        {
          "output_type": "execute_result",
          "data": {
            "text/html": [
              "<div>\n",
              "<style scoped>\n",
              "    .dataframe tbody tr th:only-of-type {\n",
              "        vertical-align: middle;\n",
              "    }\n",
              "\n",
              "    .dataframe tbody tr th {\n",
              "        vertical-align: top;\n",
              "    }\n",
              "\n",
              "    .dataframe thead th {\n",
              "        text-align: right;\n",
              "    }\n",
              "</style>\n",
              "<table border=\"1\" class=\"dataframe\">\n",
              "  <thead>\n",
              "    <tr style=\"text-align: right;\">\n",
              "      <th></th>\n",
              "      <th>From</th>\n",
              "      <th>Theme</th>\n",
              "      <th>Text</th>\n",
              "      <th>Type</th>\n",
              "      <th>Activity</th>\n",
              "      <th>Servers</th>\n",
              "      <th>Akcia</th>\n",
              "      <th>Alerts_from_Sber</th>\n",
              "      <th>Request</th>\n",
              "      <th>Question</th>\n",
              "      <th>Sber_news</th>\n",
              "    </tr>\n",
              "  </thead>\n",
              "  <tbody>\n",
              "  </tbody>\n",
              "</table>\n",
              "</div>"
            ],
            "text/plain": [
              "Empty DataFrame\n",
              "Columns: [From , Theme, Text, Type, Activity, Servers, Akcia, Alerts_from_Sber, Request, Question, Sber_news]\n",
              "Index: []"
            ]
          },
          "metadata": {
            "tags": []
          },
          "execution_count": 160
        }
      ]
    },
    {
      "cell_type": "code",
      "metadata": {
        "id": "0-Cu9UcOxNpX"
      },
      "source": [
        "main_model = keras.models.load_model('/content/drive/My Drive/model_main/')\n",
        "activ_model = keras.models.load_model('/content/drive/My Drive/model_activ2/')\n",
        "money_model = keras.models.load_model('/content/drive/My Drive/model_money2/')\n",
        "news_model = keras.models.load_model('/content/drive/My Drive/model_news2/')\n",
        "notif_model = keras.models.load_model('/content/drive/My Drive/model_notif2/')\n",
        "questions_model = keras.models.load_model('/content/drive/My Drive/model_questions2/')\n",
        "req_model = keras.models.load_model('/content/drive/My Drive/model_req2/')\n",
        "server_model = keras.models.load_model('/content/drive/My Drive/model_server/')\n"
      ],
      "execution_count": 147,
      "outputs": []
    },
    {
      "cell_type": "code",
      "metadata": {
        "id": "3lULT80Vs5cI"
      },
      "source": [
        "def dew_it (letter):\n",
        "  post.append(g,ignore_index=True)\n",
        "\n",
        "\n",
        "  MAX_NB_WORDS = 20000\n",
        "  EMBEDDING_DIM = 100\n",
        "  MAX_SEQUENCE_LENGTH = 200\n",
        "  N_CLASSES = 6\n",
        "\n",
        "\n",
        "\n",
        "  letter = letter.astype(str)\n",
        "  tokenizer = Tokenizer(num_words=MAX_NB_WORDS, char_level=False)\n",
        "  tokenizer.fit_on_texts(letter)\n",
        "  sequences = tokenizer.texts_to_sequences(letter)\n",
        "  letter= pad_sequences(sequences, maxlen=MAX_SEQUENCE_LENGTH)\n",
        "\n",
        "  main=main_model.predict(letter)\n",
        "  activ=activ_model.predict(letter)\n",
        "  money=money_model.predict(letter)\n",
        "  news=news_model.predict(letter)\n",
        "  notif=notif_model.predict(letter)\n",
        "  question=questions_model.predict(letter)\n",
        "  req=req_model.predict(letter)\n",
        "  server=server_model.predict(letter)\n",
        "\n",
        "\n",
        "\n",
        "  ##post.iloc[num-1].Type=main\n",
        "  ##post.iloc[num-1].Activity=activ\n",
        "  ##post.iloc[num-1].Akcia=money\n",
        "  ##post.iloc[num-1].Sber_news=news\n",
        "  ##post.iloc[num-1].Alerts_from_Sber=notif\n",
        "  ##post.iloc[num-1].Question=question\n",
        "  ##post.iloc[num-1].Request=req\n",
        "  ##post.iloc[num-1].Servers=server\n",
        "\n",
        "  \n",
        "\n"
      ],
      "execution_count": 182,
      "outputs": []
    },
    {
      "cell_type": "code",
      "metadata": {
        "id": "dx316lA7v2m9"
      },
      "source": [
        "g='Добрый день'\n",
        "g=pd.Series(g)"
      ],
      "execution_count": 183,
      "outputs": []
    },
    {
      "cell_type": "code",
      "metadata": {
        "id": "p58svr5iv57z"
      },
      "source": [
        "dew_it(g)"
      ],
      "execution_count": 184,
      "outputs": []
    }
  ]
}